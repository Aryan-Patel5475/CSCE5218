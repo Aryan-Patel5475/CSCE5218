{
 "cells": [
  {
   "cell_type": "code",
   "execution_count": 1,
   "id": "14515795-db5b-4a18-a049-2c3b2738d57c",
   "metadata": {},
   "outputs": [
    {
     "name": "stdout",
     "output_type": "stream",
     "text": [
      "Aryan S Patel\n"
     ]
    }
   ],
   "source": [
    "print('Aryan S Patel')"
   ]
  }
 ],
 "metadata": {
  "kernelspec": {
   "display_name": "CSCE5218",
   "language": "python",
   "name": "python3"
  },
  "language_info": {
   "codemirror_mode": {
    "name": "ipython",
    "version": 3
   },
   "file_extension": ".py",
   "mimetype": "text/x-python",
   "name": "python",
   "nbconvert_exporter": "python",
   "pygments_lexer": "ipython3",
   "version": "3.10.16"
  }
 },
 "nbformat": 4,
 "nbformat_minor": 5
}
